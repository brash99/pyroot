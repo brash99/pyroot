{
 "cells": [
  {
   "cell_type": "code",
   "execution_count": 6,
   "metadata": {},
   "outputs": [
    {
     "name": "stderr",
     "output_type": "stream",
     "text": [
      "Warning in <TCanvas::Constructor>: Deleting canvas with same name: c1\n"
     ]
    }
   ],
   "source": [
    "from os import path\n",
    "from ROOT import TCanvas, TFile, TPaveText\n",
    "from ROOT import gROOT, gBenchmark\n",
    "\n",
    "c1 = TCanvas( 'c1', 'The Fit Canvas', 200, 10, 700, 500 )\n",
    "c1.SetGridx()\n",
    "c1.SetGridy()\n",
    "c1.GetFrame().SetFillColor( 21 )\n",
    "c1.GetFrame().SetBorderMode(-1 )\n",
    "c1.GetFrame().SetBorderSize( 5 )\n",
    "\n",
    "gBenchmark.Start( 'fit1' )"
   ]
  },
  {
   "cell_type": "code",
   "execution_count": 3,
   "metadata": {},
   "outputs": [],
   "source": [
    "fill = TFile( 'py-fillrandom.root' )"
   ]
  },
  {
   "cell_type": "code",
   "execution_count": 4,
   "metadata": {},
   "outputs": [
    {
     "name": "stdout",
     "output_type": "stream",
     "text": [
      "TFile**\t\tpy-fillrandom.root\t\n",
      " TFile*\t\tpy-fillrandom.root\t\n",
      "  KEY: TFormula\tform1;1\tabs(sin(x)/x)\n",
      "  KEY: TF1\tsqroot;1\tx*gaus(0) + [3]*form1\n",
      "  KEY: TH1F\th1f;1\tTest random numbers\n"
     ]
    }
   ],
   "source": [
    "fill.ls()\n"
   ]
  },
  {
   "cell_type": "code",
   "execution_count": 5,
   "metadata": {},
   "outputs": [
    {
     "name": "stdout",
     "output_type": "stream",
     "text": [
      "Formula based function:     sqroot \n",
      "               sqroot : x*gaus(0) + [3]*form1 Ndim= 1, Npar= 4, Number= 0 \n",
      " Formula expression: \n",
      "\tx*[p0]*exp(-0.5*((x-[p1])/[p2])*((x-[p1])/[p2]))+[p3]*(abs(sin(x)/x)) \n"
     ]
    }
   ],
   "source": [
    "sqroot = gROOT.FindObject( 'sqroot' )\n",
    "sqroot.Print()"
   ]
  },
  {
   "cell_type": "code",
   "execution_count": 5,
   "metadata": {},
   "outputs": [
    {
     "data": {
      "text/plain": [
       "<ROOT.TFitResultPtr object at 0x7febf03e5850>"
      ]
     },
     "execution_count": 5,
     "metadata": {},
     "output_type": "execute_result"
    },
    {
     "name": "stdout",
     "output_type": "stream",
     "text": [
      " FCN=198.935 FROM MIGRAD    STATUS=CONVERGED     148 CALLS         149 TOTAL\n",
      "                     EDM=2.98567e-07    STRATEGY= 1      ERROR MATRIX ACCURATE \n",
      "  EXT PARAMETER                                   STEP         FIRST   \n",
      "  NO.   NAME      VALUE            ERROR          SIZE      DERIVATIVE \n",
      "   1  p0           3.31658e+01   5.45703e-01   3.00376e-03  -1.11540e-03\n",
      "   2  p1           4.00667e+00   1.65304e-02   9.48491e-05  -3.06426e-02\n",
      "   3  p2           9.84663e-01   1.28238e-02   6.05976e-05  -3.04244e-02\n",
      "   4  p3           6.34464e+01   1.33233e+00   8.77483e-03  -3.96109e-04\n"
     ]
    },
    {
     "name": "stderr",
     "output_type": "stream",
     "text": [
      "Error in <TFitResultPtr>: TFitResult is empty - use the fit option S\n",
      "Error in <TFitResultPtr>: TFitResult is empty - use the fit option S\n",
      "Error in <TFitResultPtr>: TFitResult is empty - use the fit option S\n",
      "Error in <TFitResultPtr>: TFitResult is empty - use the fit option S\n",
      "Error in <TFitResultPtr>: TFitResult is empty - use the fit option S\n",
      "Error in <TFitResultPtr>: TFitResult is empty - use the fit option S\n",
      "Error in <TFitResultPtr>: TFitResult is empty - use the fit option S\n",
      "Error in <TFitResultPtr>: TFitResult is empty - use the fit option S\n",
      "Error in <TFitResultPtr>: TFitResult is empty - use the fit option S\n",
      "Error in <TFitResultPtr>: TFitResult is empty - use the fit option S\n",
      "Error in <TFitResultPtr>: TFitResult is empty - use the fit option S\n",
      "Error in <TFitResultPtr>: TFitResult is empty - use the fit option S\n",
      "Error in <TFitResultPtr>: TFitResult is empty - use the fit option S\n",
      "Error in <TFitResultPtr>: TFitResult is empty - use the fit option S\n",
      "Error in <TFitResultPtr>: TFitResult is empty - use the fit option S\n",
      "Error in <TFitResultPtr>: TFitResult is empty - use the fit option S\n",
      "Error in <TFitResultPtr>: TFitResult is empty - use the fit option S\n",
      "Error in <TFitResultPtr>: TFitResult is empty - use the fit option S\n",
      "Error in <TFitResultPtr>: TFitResult is empty - use the fit option S\n",
      "Error in <TFitResultPtr>: TFitResult is empty - use the fit option S\n",
      "Error in <TFitResultPtr>: TFitResult is empty - use the fit option S\n",
      "Error in <TFitResultPtr>: TFitResult is empty - use the fit option S\n"
     ]
    }
   ],
   "source": [
    "h1f = gROOT.FindObject( 'h1f' )\n",
    "h1f.SetFillColor( 45 )\n",
    "h1f.Fit( 'sqroot' )"
   ]
  },
  {
   "cell_type": "code",
   "execution_count": 6,
   "metadata": {},
   "outputs": [
    {
     "name": "stdout",
     "output_type": "stream",
     "text": [
      "fit1      : Real Time =   9.51 seconds Cpu Time =   0.70 seconds\n"
     ]
    }
   ],
   "source": [
    "fitlabel = TPaveText( 0.6, 0.3, 0.9, 0.80, 'NDC' )\n",
    "fitlabel.SetTextAlign( 12 )\n",
    "fitlabel.SetFillColor( 42 )\n",
    "fitlabel.ReadFile(path.join(str(gROOT.GetTutorialDir()), 'pyroot', 'fit1_py.py'))\n",
    "fitlabel.Draw()\n",
    "c1.Update()\n",
    "gBenchmark.Show( 'fit1' )"
   ]
  },
  {
   "cell_type": "code",
   "execution_count": 7,
   "metadata": {},
   "outputs": [
    {
     "data": {
      "image/png": "[encoded data removed]",
      "text/plain": [
       "<IPython.core.display.Image object>"
      ]
     },
     "metadata": {},
     "output_type": "display_data"
    }
   ],
   "source": [
    "from ROOT import gROOT \n",
    "gROOT.GetListOfCanvases().Draw()"
   ]
  },
  {
   "cell_type": "code",
   "execution_count": 9,
   "metadata": {},
   "outputs": [
    {
     "name": "stdout",
     "output_type": "stream",
     "text": [
      "/usr/local/Cellar/root/6.14.06/share/doc/root/tutorials\n",
      "[/usr/lib/system/libsystem_platform.dylib] _sigtramp (no debug info)\n",
      "[/usr/lib/system/libsystem_c.dylib] _swrite (no debug info)\n",
      "[/usr/local/Cellar/root/6.14.06/lib/root/libPyROOT.so] Cppyy::CallO(long, void*, void*, long) (no debug info)\n",
      "[/usr/local/Cellar/root/6.14.06/lib/root/libPyROOT.so] PyROOT::TCppObjectByValueExecutor::Execute(long, void*, PyROOT::TCallContext*) (no debug info)\n",
      "[/usr/local/Cellar/root/6.14.06/lib/root/libPyROOT.so] PyROOT::TMethodHolder::CallFast(void*, long, PyROOT::TCallContext*) (no debug info)\n",
      "[/usr/local/Cellar/root/6.14.06/lib/root/libPyROOT.so] PyROOT::TMethodHolder::CallSafe(void*, long, PyROOT::TCallContext*) (no debug info)\n",
      "[/usr/local/Cellar/root/6.14.06/lib/root/libPyROOT.so] PyROOT::TMethodHolder::Execute(void*, long, PyROOT::TCallContext*) (no debug info)\n",
      "[/usr/local/Cellar/root/6.14.06/lib/root/libPyROOT.so] PyROOT::(anonymous namespace)::mp_call(PyROOT::MethodProxy*, _object*, _object*) (no debug info)\n",
      "[/usr/local/Cellar/python/3.7.3/Frameworks/Python.framework/Versions/3.7/Python] _PyObject_FastCallKeywords (no debug info)\n",
      "[/usr/local/Cellar/python/3.7.3/Frameworks/Python.framework/Versions/3.7/Python] call_function (no debug info)\n",
      "[/usr/local/Cellar/python/3.7.3/Frameworks/Python.framework/Versions/3.7/Python] _PyEval_EvalFrameDefault (no debug info)\n",
      "[/usr/local/Cellar/python/3.7.3/Frameworks/Python.framework/Versions/3.7/Python] function_code_fastcall (no debug info)\n",
      "[/usr/local/Cellar/python/3.7.3/Frameworks/Python.framework/Versions/3.7/Python] call_function (no debug info)\n",
      "[/usr/local/Cellar/python/3.7.3/Frameworks/Python.framework/Versions/3.7/Python] _PyEval_EvalFrameDefault (no debug info)\n",
      "[/usr/local/Cellar/python/3.7.3/Frameworks/Python.framework/Versions/3.7/Python] _PyEval_EvalCodeWithName (no debug info)\n",
      "[/usr/local/Cellar/python/3.7.3/Frameworks/Python.framework/Versions/3.7/Python] _PyFunction_FastCallKeywords (no debug info)\n",
      "[/usr/local/Cellar/python/3.7.3/Frameworks/Python.framework/Versions/3.7/Python] call_function (no debug info)\n",
      "[/usr/local/Cellar/python/3.7.3/Frameworks/Python.framework/Versions/3.7/Python] _PyEval_EvalFrameDefault (no debug info)\n",
      "[/usr/local/Cellar/python/3.7.3/Frameworks/Python.framework/Versions/3.7/Python] function_code_fastcall (no debug info)\n",
      "[/usr/local/Cellar/python/3.7.3/Frameworks/Python.framework/Versions/3.7/Python] _PyObject_Call_Prepend (no debug info)\n",
      "[/usr/local/Cellar/python/3.7.3/Frameworks/Python.framework/Versions/3.7/Python] _PyObject_FastCallKeywords (no debug info)\n",
      "[/usr/local/Cellar/python/3.7.3/Frameworks/Python.framework/Versions/3.7/Python] call_function (no debug info)\n",
      "[/usr/local/Cellar/python/3.7.3/Frameworks/Python.framework/Versions/3.7/Python] _PyEval_EvalFrameDefault (no debug info)\n",
      "[/usr/local/Cellar/python/3.7.3/Frameworks/Python.framework/Versions/3.7/Python] _PyEval_EvalCodeWithName (no debug info)\n",
      "[/usr/local/Cellar/python/3.7.3/Frameworks/Python.framework/Versions/3.7/Python] _PyFunction_FastCallKeywords (no debug info)\n",
      "[/usr/local/Cellar/python/3.7.3/Frameworks/Python.framework/Versions/3.7/Python] call_function (no debug info)\n",
      "[/usr/local/Cellar/python/3.7.3/Frameworks/Python.framework/Versions/3.7/Python] _PyEval_EvalFrameDefault (no debug info)\n",
      "[/usr/local/Cellar/python/3.7.3/Frameworks/Python.framework/Versions/3.7/Python] _PyEval_EvalCodeWithName (no debug info)\n",
      "[/usr/local/Cellar/python/3.7.3/Frameworks/Python.framework/Versions/3.7/Python] _PyFunction_FastCallKeywords (no debug info)\n",
      "[/usr/local/Cellar/python/3.7.3/Frameworks/Python.framework/Versions/3.7/Python] call_function (no debug info)\n",
      "[/usr/local/Cellar/python/3.7.3/Frameworks/Python.framework/Versions/3.7/Python] _PyEval_EvalFrameDefault (no debug info)\n",
      "[/usr/local/Cellar/python/3.7.3/Frameworks/Python.framework/Versions/3.7/Python] gen_send_ex (no debug info)\n",
      "[/usr/local/Cellar/python/3.7.3/Frameworks/Python.framework/Versions/3.7/Python] _PyEval_EvalFrameDefault (no debug info)\n",
      "[/usr/local/Cellar/python/3.7.3/Frameworks/Python.framework/Versions/3.7/Python] gen_send_ex (no debug info)\n",
      "[/usr/local/Cellar/python/3.7.3/Frameworks/Python.framework/Versions/3.7/Python] list_extend (no debug info)\n",
      "[/usr/local/Cellar/python/3.7.3/Frameworks/Python.framework/Versions/3.7/Python] list___init__ (no debug info)\n",
      "[/usr/local/Cellar/python/3.7.3/Frameworks/Python.framework/Versions/3.7/Python] type_call (no debug info)\n",
      "[/usr/local/Cellar/python/3.7.3/Frameworks/Python.framework/Versions/3.7/Python] _PyObject_FastCallKeywords (no debug info)\n",
      "[/usr/local/Cellar/python/3.7.3/Frameworks/Python.framework/Versions/3.7/Python] call_function (no debug info)\n",
      "[/usr/local/Cellar/python/3.7.3/Frameworks/Python.framework/Versions/3.7/Python] _PyEval_EvalFrameDefault (no debug info)\n",
      "[/usr/local/Cellar/python/3.7.3/Frameworks/Python.framework/Versions/3.7/Python] gen_send_ex (no debug info)\n",
      "[/usr/local/Cellar/python/3.7.3/Frameworks/Python.framework/Versions/3.7/Python] list_extend (no debug info)\n",
      "[/usr/local/Cellar/python/3.7.3/Frameworks/Python.framework/Versions/3.7/Python] list___init__ (no debug info)\n",
      "[/usr/local/Cellar/python/3.7.3/Frameworks/Python.framework/Versions/3.7/Python] type_call (no debug info)\n",
      "[/usr/local/Cellar/python/3.7.3/Frameworks/Python.framework/Versions/3.7/Python] _PyObject_FastCallKeywords (no debug info)\n",
      "[/usr/local/Cellar/python/3.7.3/Frameworks/Python.framework/Versions/3.7/Python] call_function (no debug info)\n",
      "[/usr/local/Cellar/python/3.7.3/Frameworks/Python.framework/Versions/3.7/Python] _PyEval_EvalFrameDefault (no debug info)\n",
      "[/usr/local/Cellar/python/3.7.3/Frameworks/Python.framework/Versions/3.7/Python] function_code_fastcall (no debug info)\n",
      "[/usr/local/Cellar/python/3.7.3/Frameworks/Python.framework/Versions/3.7/Python] call_function (no debug info)\n",
      "[/usr/local/Cellar/python/3.7.3/Frameworks/Python.framework/Versions/3.7/Python] _PyEval_EvalFrameDefault (no debug info)\n",
      "[/usr/local/Cellar/python/3.7.3/Frameworks/Python.framework/Versions/3.7/Python] function_code_fastcall (no debug info)\n",
      "[/usr/local/Cellar/python/3.7.3/Frameworks/Python.framework/Versions/3.7/Python] call_function (no debug info)\n",
      "[/usr/local/Cellar/python/3.7.3/Frameworks/Python.framework/Versions/3.7/Python] _PyEval_EvalFrameDefault (no debug info)\n",
      "[/usr/local/Cellar/python/3.7.3/Frameworks/Python.framework/Versions/3.7/Python] gen_send_ex (no debug info)\n",
      "[/usr/local/Cellar/python/3.7.3/Frameworks/Python.framework/Versions/3.7/Python] builtin_next (no debug info)\n",
      "[/usr/local/Cellar/python/3.7.3/Frameworks/Python.framework/Versions/3.7/Python] _PyMethodDef_RawFastCallKeywords (no debug info)\n",
      "[/usr/local/Cellar/python/3.7.3/Frameworks/Python.framework/Versions/3.7/Python] _PyCFunction_FastCallKeywords (no debug info)\n",
      "[/usr/local/Cellar/python/3.7.3/Frameworks/Python.framework/Versions/3.7/Python] call_function (no debug info)\n",
      "[/usr/local/Cellar/python/3.7.3/Frameworks/Python.framework/Versions/3.7/Python] _PyEval_EvalFrameDefault (no debug info)\n",
      "[/usr/local/Cellar/python/3.7.3/Frameworks/Python.framework/Versions/3.7/Python] _PyEval_EvalCodeWithName (no debug info)\n",
      "[/usr/local/Cellar/python/3.7.3/Frameworks/Python.framework/Versions/3.7/Python] _PyFunction_FastCallKeywords (no debug info)\n",
      "[/usr/local/Cellar/python/3.7.3/Frameworks/Python.framework/Versions/3.7/Python] call_function (no debug info)\n",
      "[/usr/local/Cellar/python/3.7.3/Frameworks/Python.framework/Versions/3.7/Python] _PyEval_EvalFrameDefault (no debug info)\n",
      "[/usr/local/Cellar/python/3.7.3/Frameworks/Python.framework/Versions/3.7/Python] gen_send_ex (no debug info)\n",
      "[/usr/local/Cellar/python/3.7.3/Frameworks/Python.framework/Versions/3.7/Python] builtin_next (no debug info)\n",
      "[/usr/local/Cellar/python/3.7.3/Frameworks/Python.framework/Versions/3.7/Python] _PyMethodDef_RawFastCallKeywords (no debug info)\n",
      "[/usr/local/Cellar/python/3.7.3/Frameworks/Python.framework/Versions/3.7/Python] _PyCFunction_FastCallKeywords (no debug info)\n",
      "[/usr/local/Cellar/python/3.7.3/Frameworks/Python.framework/Versions/3.7/Python] call_function (no debug info)\n",
      "[/usr/local/Cellar/python/3.7.3/Frameworks/Python.framework/Versions/3.7/Python] _PyEval_EvalFrameDefault (no debug info)\n",
      "[/usr/local/Cellar/python/3.7.3/Frameworks/Python.framework/Versions/3.7/Python] _PyEval_EvalCodeWithName (no debug info)\n",
      "[/usr/local/Cellar/python/3.7.3/Frameworks/Python.framework/Versions/3.7/Python] _PyFunction_FastCallDict (no debug info)\n",
      "[/usr/local/Cellar/python/3.7.3/Frameworks/Python.framework/Versions/3.7/Python] _PyObject_Call_Prepend (no debug info)\n",
      "[/usr/local/Cellar/python/3.7.3/Frameworks/Python.framework/Versions/3.7/Python] PyObject_Call (no debug info)\n",
      "[/usr/local/Cellar/python/3.7.3/Frameworks/Python.framework/Versions/3.7/Python] _PyEval_EvalFrameDefault (no debug info)\n",
      "[/usr/local/Cellar/python/3.7.3/Frameworks/Python.framework/Versions/3.7/Python] gen_send_ex (no debug info)\n",
      "[/usr/local/Cellar/python/3.7.3/Frameworks/Python.framework/Versions/3.7/Python] _PyMethodDef_RawFastCallKeywords (no debug info)\n",
      "[/usr/local/Cellar/python/3.7.3/Frameworks/Python.framework/Versions/3.7/Python] _PyMethodDescr_FastCallKeywords (no debug info)\n",
      "[/usr/local/Cellar/python/3.7.3/Frameworks/Python.framework/Versions/3.7/Python] call_function (no debug info)\n",
      "[/usr/local/Cellar/python/3.7.3/Frameworks/Python.framework/Versions/3.7/Python] _PyEval_EvalFrameDefault (no debug info)\n",
      "[/usr/local/Cellar/python/3.7.3/Frameworks/Python.framework/Versions/3.7/Python] function_code_fastcall (no debug info)\n",
      "[/usr/local/Cellar/python/3.7.3/Frameworks/Python.framework/Versions/3.7/Python] call_function (no debug info)\n",
      "[/usr/local/Cellar/python/3.7.3/Frameworks/Python.framework/Versions/3.7/Python] _PyEval_EvalFrameDefault (no debug info)\n",
      "[/usr/local/Cellar/python/3.7.3/Frameworks/Python.framework/Versions/3.7/Python] _PyEval_EvalCodeWithName (no debug info)\n",
      "[/usr/local/Cellar/python/3.7.3/Frameworks/Python.framework/Versions/3.7/Python] _PyFunction_FastCallDict (no debug info)\n",
      "[/usr/local/Cellar/python/3.7.3/Frameworks/Python.framework/Versions/3.7/Python] _PyEval_EvalFrameDefault (no debug info)\n",
      "[/usr/local/Cellar/python/3.7.3/Frameworks/Python.framework/Versions/3.7/Python] _PyEval_EvalCodeWithName (no debug info)\n",
      "[/usr/local/Cellar/python/3.7.3/Frameworks/Python.framework/Versions/3.7/Python] _PyFunction_FastCallDict (no debug info)\n",
      "[/usr/local/Cellar/python/3.7.3/Frameworks/Python.framework/Versions/3.7/Python] partial_call (no debug info)\n",
      "[/usr/local/Cellar/python/3.7.3/Frameworks/Python.framework/Versions/3.7/Python] _PyObject_FastCallKeywords (no debug info)\n",
      "[/usr/local/Cellar/python/3.7.3/Frameworks/Python.framework/Versions/3.7/Python] call_function (no debug info)\n",
      "[/usr/local/Cellar/python/3.7.3/Frameworks/Python.framework/Versions/3.7/Python] _PyEval_EvalFrameDefault (no debug info)\n",
      "[/usr/local/Cellar/python/3.7.3/Frameworks/Python.framework/Versions/3.7/Python] function_code_fastcall (no debug info)\n",
      "[/usr/local/Cellar/python/3.7.3/Frameworks/Python.framework/Versions/3.7/Python] _PyObject_Call_Prepend (no debug info)\n",
      "[/usr/local/Cellar/python/3.7.3/Frameworks/Python.framework/Versions/3.7/Python] _PyObject_FastCallKeywords (no debug info)\n",
      "[/usr/local/Cellar/python/3.7.3/Frameworks/Python.framework/Versions/3.7/Python] context_run (no debug info)\n",
      "[/usr/local/Cellar/python/3.7.3/Frameworks/Python.framework/Versions/3.7/Python] _PyMethodDef_RawFastCallDict (no debug info)\n",
      "[/usr/local/Cellar/python/3.7.3/Frameworks/Python.framework/Versions/3.7/Python] _PyCFunction_FastCallDict (no debug info)\n",
      "[/usr/local/Cellar/python/3.7.3/Frameworks/Python.framework/Versions/3.7/Python] _PyEval_EvalFrameDefault (no debug info)\n",
      "[/usr/local/Cellar/python/3.7.3/Frameworks/Python.framework/Versions/3.7/Python] function_code_fastcall (no debug info)\n",
      "[/usr/local/Cellar/python/3.7.3/Frameworks/Python.framework/Versions/3.7/Python] call_function (no debug info)\n",
      "[/usr/local/Cellar/python/3.7.3/Frameworks/Python.framework/Versions/3.7/Python] _PyEval_EvalFrameDefault (no debug info)\n",
      "[/usr/local/Cellar/python/3.7.3/Frameworks/Python.framework/Versions/3.7/Python] function_code_fastcall (no debug info)\n",
      "[/usr/local/Cellar/python/3.7.3/Frameworks/Python.framework/Versions/3.7/Python] call_function (no debug info)\n",
      "[/usr/local/Cellar/python/3.7.3/Frameworks/Python.framework/Versions/3.7/Python] _PyEval_EvalFrameDefault (no debug info)\n",
      "[/usr/local/Cellar/python/3.7.3/Frameworks/Python.framework/Versions/3.7/Python] function_code_fastcall (no debug info)\n",
      "[/usr/local/Cellar/python/3.7.3/Frameworks/Python.framework/Versions/3.7/Python] call_function (no debug info)\n",
      "[/usr/local/Cellar/python/3.7.3/Frameworks/Python.framework/Versions/3.7/Python] _PyEval_EvalFrameDefault (no debug info)\n",
      "[/usr/local/Cellar/python/3.7.3/Frameworks/Python.framework/Versions/3.7/Python] function_code_fastcall (no debug info)\n",
      "[/usr/local/Cellar/python/3.7.3/Frameworks/Python.framework/Versions/3.7/Python] call_function (no debug info)\n",
      "[/usr/local/Cellar/python/3.7.3/Frameworks/Python.framework/Versions/3.7/Python] _PyEval_EvalFrameDefault (no debug info)\n",
      "[/usr/local/Cellar/python/3.7.3/Frameworks/Python.framework/Versions/3.7/Python] function_code_fastcall (no debug info)\n",
      "[/usr/local/Cellar/python/3.7.3/Frameworks/Python.framework/Versions/3.7/Python] call_function (no debug info)\n",
      "[/usr/local/Cellar/python/3.7.3/Frameworks/Python.framework/Versions/3.7/Python] _PyEval_EvalFrameDefault (no debug info)\n",
      "[/usr/local/Cellar/python/3.7.3/Frameworks/Python.framework/Versions/3.7/Python] _PyEval_EvalCodeWithName (no debug info)\n",
      "[/usr/local/Cellar/python/3.7.3/Frameworks/Python.framework/Versions/3.7/Python] _PyFunction_FastCallKeywords (no debug info)\n",
      "[/usr/local/Cellar/python/3.7.3/Frameworks/Python.framework/Versions/3.7/Python] call_function (no debug info)\n",
      "[/usr/local/Cellar/python/3.7.3/Frameworks/Python.framework/Versions/3.7/Python] _PyEval_EvalFrameDefault (no debug info)\n",
      "[/usr/local/Cellar/python/3.7.3/Frameworks/Python.framework/Versions/3.7/Python] _PyEval_EvalCodeWithName (no debug info)\n",
      "[/usr/local/Cellar/python/3.7.3/Frameworks/Python.framework/Versions/3.7/Python] PyEval_EvalCode (no debug info)\n",
      "[/usr/local/Cellar/python/3.7.3/Frameworks/Python.framework/Versions/3.7/Python] builtin_exec (no debug info)\n",
      "[/usr/local/Cellar/python/3.7.3/Frameworks/Python.framework/Versions/3.7/Python] _PyMethodDef_RawFastCallKeywords (no debug info)\n",
      "[/usr/local/Cellar/python/3.7.3/Frameworks/Python.framework/Versions/3.7/Python] _PyCFunction_FastCallKeywords (no debug info)\n",
      "[/usr/local/Cellar/python/3.7.3/Frameworks/Python.framework/Versions/3.7/Python] call_function (no debug info)\n",
      "[/usr/local/Cellar/python/3.7.3/Frameworks/Python.framework/Versions/3.7/Python] _PyEval_EvalFrameDefault (no debug info)\n",
      "[/usr/local/Cellar/python/3.7.3/Frameworks/Python.framework/Versions/3.7/Python] _PyEval_EvalCodeWithName (no debug info)\n",
      "[/usr/local/Cellar/python/3.7.3/Frameworks/Python.framework/Versions/3.7/Python] _PyFunction_FastCallKeywords (no debug info)\n"
     ]
    }
   ],
   "source": [
    "print (str(gROOT.GetTutorialDir()))"
   ]
  },
  {
   "cell_type": "code",
   "execution_count": null,
   "metadata": {},
   "outputs": [],
   "source": []
  }
 ],
 "metadata": {
  "kernelspec": {
   "display_name": "Python 3",
   "language": "python",
   "name": "python3"
  },
  "language_info": {
   "codemirror_mode": {
    "name": "ipython",
    "version": 3
   },
   "file_extension": ".py",
   "mimetype": "text/x-python",
   "name": "python",
   "nbconvert_exporter": "python",
   "pygments_lexer": "ipython3",
   "version": "3.6.8"
  }
 },
 "nbformat": 4,
 "nbformat_minor": 2
}
